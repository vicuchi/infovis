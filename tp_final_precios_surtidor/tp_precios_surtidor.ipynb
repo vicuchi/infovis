{
  "nbformat": 4,
  "nbformat_minor": 0,
  "metadata": {
    "colab": {
      "provenance": [],
      "authorship_tag": "ABX9TyOHNBomqZfHRfm5z4YUZT5c",
      "include_colab_link": true
    },
    "kernelspec": {
      "name": "python3",
      "display_name": "Python 3"
    },
    "language_info": {
      "name": "python"
    }
  },
  "cells": [
    {
      "cell_type": "markdown",
      "metadata": {
        "id": "view-in-github",
        "colab_type": "text"
      },
      "source": [
        "<a href=\"https://colab.research.google.com/github/vicuchi/infovis/blob/main/tp_final_precios_surtidor/tp_precios_surtidor.ipynb\" target=\"_parent\"><img src=\"https://colab.research.google.com/assets/colab-badge.svg\" alt=\"Open In Colab\"/></a>"
      ]
    },
    {
      "cell_type": "markdown",
      "source": [
        "Contexto:\n",
        "En el marco de una recomposicion del precio para alcanzar el Export Parity, se ajustan trimestralmente los precios de las naftas a causa de la devaluacion mensual del 2% (crawling peg) sumado a los ajustes en el impuesto a los Combustibles Liquidos y al Dioxido de Carbono (ICL - IDC). A partir de mayo de 2024 se empezaron a postergar los aumentos del ICL debido a su impacto en la inflación. En septiembre de 2024 el atraso de los combustibles es del 88%. Lo que significaría un impuesto de ARS 314 por litro (+ ARS 146)."
      ],
      "metadata": {
        "id": "2fzIG5L-H40V"
      }
    },
    {
      "cell_type": "markdown",
      "source": [
        "Se analiza la base de datos de Precios en el Surtidor de la Secretaría de Energía.\n",
        "\n",
        "La base cuenta con los datos del Sistema en línea de información de precios de combustibles en surtidor, a través del cual los titulares de bocas de expendio de combustibles líquidos inscriptos en el registro creado por la resolución n° 1.102/2004 presentan la información relativa a precios de comercialización minorista dentro de las 8 (ocho) horas de producida una modificación en el precio en surtidor.\n",
        "https://datos.gob.ar/sv/dataset/energia-precios-surtidor---resolucion-3142016\n"
      ],
      "metadata": {
        "id": "cSRu8X8xHO20"
      }
    },
    {
      "cell_type": "code",
      "source": [
        "import pandas as pd\n",
        "import numpy as np\n",
        "import matplotlib.pyplot as plt\n",
        "import seaborn as sns"
      ],
      "metadata": {
        "id": "doxvgZfcMSP6"
      },
      "execution_count": 2,
      "outputs": []
    },
    {
      "cell_type": "markdown",
      "source": [
        "Obtenemos los datos directo desde la pagina web de Energía"
      ],
      "metadata": {
        "id": "nqH4LFDoETDk"
      }
    },
    {
      "cell_type": "code",
      "execution_count": 3,
      "metadata": {
        "colab": {
          "base_uri": "https://localhost:8080/"
        },
        "id": "JafQPdNfI5M1",
        "outputId": "7dc3039f-b7d6-4483-8eee-45e9a3f627b1"
      },
      "outputs": [
        {
          "output_type": "stream",
          "name": "stdout",
          "text": [
            "--2024-09-08 15:06:48--  http://datos.energia.gob.ar/dataset/1c181390-5045-475e-94dc-410429be4b17/resource/80ac25de-a44a-4445-9215-090cf55cfda5/download/precios-en-surtidor-resolucin-3142016.csv\n",
            "Resolving datos.energia.gob.ar (datos.energia.gob.ar)... 168.101.26.134\n",
            "Connecting to datos.energia.gob.ar (datos.energia.gob.ar)|168.101.26.134|:80... connected.\n",
            "HTTP request sent, awaiting response... 200 OK\n",
            "Length: 9290536 (8.9M) [text/csv]\n",
            "Saving to: ‘precios-en-surtidor-resolucin-3142016.csv’\n",
            "\n",
            "precios-en-surtidor 100%[===================>]   8.86M   584KB/s    in 14s     \n",
            "\n",
            "2024-09-08 15:07:03 (672 KB/s) - ‘precios-en-surtidor-resolucin-3142016.csv’ saved [9290536/9290536]\n",
            "\n"
          ]
        }
      ],
      "source": [
        "!wget http://datos.energia.gob.ar/dataset/1c181390-5045-475e-94dc-410429be4b17/resource/80ac25de-a44a-4445-9215-090cf55cfda5/download/precios-en-surtidor-resolucin-3142016.csv"
      ]
    },
    {
      "cell_type": "code",
      "source": [
        "base = pd.read_csv(\"precios-en-surtidor-resolucin-3142016.csv\")"
      ],
      "metadata": {
        "id": "0QZGmFuuML4q"
      },
      "execution_count": 8,
      "outputs": []
    },
    {
      "cell_type": "markdown",
      "source": [
        "Obervamos que columnas tiene la base de datos y de que tipo son los datos"
      ],
      "metadata": {
        "id": "ZDcJDg98EY_G"
      }
    },
    {
      "cell_type": "code",
      "source": [
        "base.info()"
      ],
      "metadata": {
        "colab": {
          "base_uri": "https://localhost:8080/"
        },
        "id": "ov6AnX5oMnjg",
        "outputId": "a83c918e-d4c6-4a78-df0e-da5de1255447"
      },
      "execution_count": 9,
      "outputs": [
        {
          "output_type": "stream",
          "name": "stdout",
          "text": [
            "<class 'pandas.core.frame.DataFrame'>\n",
            "RangeIndex: 36764 entries, 0 to 36763\n",
            "Data columns (total 19 columns):\n",
            " #   Column            Non-Null Count  Dtype  \n",
            "---  ------            --------------  -----  \n",
            " 0   indice_tiempo     36764 non-null  object \n",
            " 1   idempresa         36764 non-null  int64  \n",
            " 2   cuit              36764 non-null  object \n",
            " 3   empresa           36764 non-null  object \n",
            " 4   direccion         36764 non-null  object \n",
            " 5   localidad         36764 non-null  object \n",
            " 6   provincia         36764 non-null  object \n",
            " 7   region            29419 non-null  object \n",
            " 8   idproducto        36764 non-null  int64  \n",
            " 9   producto          36764 non-null  object \n",
            " 10  idtipohorario     36764 non-null  int64  \n",
            " 11  tipohorario       36764 non-null  object \n",
            " 12  precio            36764 non-null  float64\n",
            " 13  fecha_vigencia    36764 non-null  object \n",
            " 14  idempresabandera  36764 non-null  int64  \n",
            " 15  empresabandera    36764 non-null  object \n",
            " 16  latitud           36666 non-null  float64\n",
            " 17  longitud          36666 non-null  float64\n",
            " 18  geojson           36666 non-null  object \n",
            "dtypes: float64(3), int64(4), object(12)\n",
            "memory usage: 5.3+ MB\n"
          ]
        }
      ]
    },
    {
      "cell_type": "markdown",
      "source": [
        "vemos que tipos de productos refiere la base"
      ],
      "metadata": {
        "id": "EXejHZqbEij8"
      }
    },
    {
      "cell_type": "code",
      "source": [
        "base.producto.unique()"
      ],
      "metadata": {
        "colab": {
          "base_uri": "https://localhost:8080/"
        },
        "id": "K-IlHttA-1GY",
        "outputId": "bb1542e0-d7fb-4ee7-e674-fcc32bcff253"
      },
      "execution_count": null,
      "outputs": [
        {
          "output_type": "execute_result",
          "data": {
            "text/plain": [
              "array(['Gas Oil Grado 2', 'Gas Oil Grado 3', 'GNC',\n",
              "       'Nafta (premium) de más de 95 Ron',\n",
              "       'Nafta (súper) entre 92 y 95 Ron'], dtype=object)"
            ]
          },
          "metadata": {},
          "execution_count": 87
        }
      ]
    },
    {
      "cell_type": "markdown",
      "source": [
        "Filtramos la base para quedarnos con los precios informados en agosto, solo para la nafta y el horario diruno; asi evitar duplicaciones y diferenciales de precio entre productos."
      ],
      "metadata": {
        "id": "OmPra1TaEmD0"
      }
    },
    {
      "cell_type": "code",
      "source": [
        "base=base[(base[\"indice_tiempo\"] == \"2024-08\") & (base[\"producto\"] == \"Nafta (súper) entre 92 y 95 Ron\")&(base[\"tipohorario\"] == \"Diurno\")]"
      ],
      "metadata": {
        "id": "1VYSBJkDNugX"
      },
      "execution_count": 10,
      "outputs": []
    },
    {
      "cell_type": "markdown",
      "source": [
        "Hacemos un describe de la base para tener estadisticas basicas de la base"
      ],
      "metadata": {
        "id": "1yCHgSmPEznE"
      }
    },
    {
      "cell_type": "code",
      "source": [
        "base.describe()"
      ],
      "metadata": {
        "colab": {
          "base_uri": "https://localhost:8080/",
          "height": 300
        },
        "id": "G3SNE-CD9VHf",
        "outputId": "0519ebc3-2309-4e76-ce76-93fab73c57ee"
      },
      "execution_count": null,
      "outputs": [
        {
          "output_type": "execute_result",
          "data": {
            "text/plain": [
              "          idempresa  idproducto  idtipohorario       precio  idempresabandera  \\\n",
              "count    383.000000       383.0          383.0   383.000000        383.000000   \n",
              "mean    6510.563969         2.0            2.0  1089.258486         14.417755   \n",
              "std     3133.039136         0.0            0.0    79.784878         12.103952   \n",
              "min      120.000000         2.0            2.0   803.000000          1.000000   \n",
              "25%     3531.000000         2.0            2.0  1078.000000          4.000000   \n",
              "50%     7046.000000         2.0            2.0  1104.000000          6.000000   \n",
              "75%     9381.000000         2.0            2.0  1129.000000         28.000000   \n",
              "max    11070.000000         2.0            2.0  1328.000000         30.000000   \n",
              "\n",
              "          latitud    longitud  \n",
              "count  381.000000  381.000000  \n",
              "mean   -33.066979  -61.739116  \n",
              "std      3.913938    3.422119  \n",
              "min    -46.798999  -71.535157  \n",
              "25%    -34.817422  -64.248750  \n",
              "50%    -33.542930  -61.044260  \n",
              "75%    -31.330719  -58.599058  \n",
              "max    -22.240150  -54.617900  "
            ],
            "text/html": [
              "\n",
              "  <div id=\"df-e35fc13e-d70e-428e-b511-541f51ede023\" class=\"colab-df-container\">\n",
              "    <div>\n",
              "<style scoped>\n",
              "    .dataframe tbody tr th:only-of-type {\n",
              "        vertical-align: middle;\n",
              "    }\n",
              "\n",
              "    .dataframe tbody tr th {\n",
              "        vertical-align: top;\n",
              "    }\n",
              "\n",
              "    .dataframe thead th {\n",
              "        text-align: right;\n",
              "    }\n",
              "</style>\n",
              "<table border=\"1\" class=\"dataframe\">\n",
              "  <thead>\n",
              "    <tr style=\"text-align: right;\">\n",
              "      <th></th>\n",
              "      <th>idempresa</th>\n",
              "      <th>idproducto</th>\n",
              "      <th>idtipohorario</th>\n",
              "      <th>precio</th>\n",
              "      <th>idempresabandera</th>\n",
              "      <th>latitud</th>\n",
              "      <th>longitud</th>\n",
              "    </tr>\n",
              "  </thead>\n",
              "  <tbody>\n",
              "    <tr>\n",
              "      <th>count</th>\n",
              "      <td>383.000000</td>\n",
              "      <td>383.0</td>\n",
              "      <td>383.0</td>\n",
              "      <td>383.000000</td>\n",
              "      <td>383.000000</td>\n",
              "      <td>381.000000</td>\n",
              "      <td>381.000000</td>\n",
              "    </tr>\n",
              "    <tr>\n",
              "      <th>mean</th>\n",
              "      <td>6510.563969</td>\n",
              "      <td>2.0</td>\n",
              "      <td>2.0</td>\n",
              "      <td>1089.258486</td>\n",
              "      <td>14.417755</td>\n",
              "      <td>-33.066979</td>\n",
              "      <td>-61.739116</td>\n",
              "    </tr>\n",
              "    <tr>\n",
              "      <th>std</th>\n",
              "      <td>3133.039136</td>\n",
              "      <td>0.0</td>\n",
              "      <td>0.0</td>\n",
              "      <td>79.784878</td>\n",
              "      <td>12.103952</td>\n",
              "      <td>3.913938</td>\n",
              "      <td>3.422119</td>\n",
              "    </tr>\n",
              "    <tr>\n",
              "      <th>min</th>\n",
              "      <td>120.000000</td>\n",
              "      <td>2.0</td>\n",
              "      <td>2.0</td>\n",
              "      <td>803.000000</td>\n",
              "      <td>1.000000</td>\n",
              "      <td>-46.798999</td>\n",
              "      <td>-71.535157</td>\n",
              "    </tr>\n",
              "    <tr>\n",
              "      <th>25%</th>\n",
              "      <td>3531.000000</td>\n",
              "      <td>2.0</td>\n",
              "      <td>2.0</td>\n",
              "      <td>1078.000000</td>\n",
              "      <td>4.000000</td>\n",
              "      <td>-34.817422</td>\n",
              "      <td>-64.248750</td>\n",
              "    </tr>\n",
              "    <tr>\n",
              "      <th>50%</th>\n",
              "      <td>7046.000000</td>\n",
              "      <td>2.0</td>\n",
              "      <td>2.0</td>\n",
              "      <td>1104.000000</td>\n",
              "      <td>6.000000</td>\n",
              "      <td>-33.542930</td>\n",
              "      <td>-61.044260</td>\n",
              "    </tr>\n",
              "    <tr>\n",
              "      <th>75%</th>\n",
              "      <td>9381.000000</td>\n",
              "      <td>2.0</td>\n",
              "      <td>2.0</td>\n",
              "      <td>1129.000000</td>\n",
              "      <td>28.000000</td>\n",
              "      <td>-31.330719</td>\n",
              "      <td>-58.599058</td>\n",
              "    </tr>\n",
              "    <tr>\n",
              "      <th>max</th>\n",
              "      <td>11070.000000</td>\n",
              "      <td>2.0</td>\n",
              "      <td>2.0</td>\n",
              "      <td>1328.000000</td>\n",
              "      <td>30.000000</td>\n",
              "      <td>-22.240150</td>\n",
              "      <td>-54.617900</td>\n",
              "    </tr>\n",
              "  </tbody>\n",
              "</table>\n",
              "</div>\n",
              "    <div class=\"colab-df-buttons\">\n",
              "\n",
              "  <div class=\"colab-df-container\">\n",
              "    <button class=\"colab-df-convert\" onclick=\"convertToInteractive('df-e35fc13e-d70e-428e-b511-541f51ede023')\"\n",
              "            title=\"Convert this dataframe to an interactive table.\"\n",
              "            style=\"display:none;\">\n",
              "\n",
              "  <svg xmlns=\"http://www.w3.org/2000/svg\" height=\"24px\" viewBox=\"0 -960 960 960\">\n",
              "    <path d=\"M120-120v-720h720v720H120Zm60-500h600v-160H180v160Zm220 220h160v-160H400v160Zm0 220h160v-160H400v160ZM180-400h160v-160H180v160Zm440 0h160v-160H620v160ZM180-180h160v-160H180v160Zm440 0h160v-160H620v160Z\"/>\n",
              "  </svg>\n",
              "    </button>\n",
              "\n",
              "  <style>\n",
              "    .colab-df-container {\n",
              "      display:flex;\n",
              "      gap: 12px;\n",
              "    }\n",
              "\n",
              "    .colab-df-convert {\n",
              "      background-color: #E8F0FE;\n",
              "      border: none;\n",
              "      border-radius: 50%;\n",
              "      cursor: pointer;\n",
              "      display: none;\n",
              "      fill: #1967D2;\n",
              "      height: 32px;\n",
              "      padding: 0 0 0 0;\n",
              "      width: 32px;\n",
              "    }\n",
              "\n",
              "    .colab-df-convert:hover {\n",
              "      background-color: #E2EBFA;\n",
              "      box-shadow: 0px 1px 2px rgba(60, 64, 67, 0.3), 0px 1px 3px 1px rgba(60, 64, 67, 0.15);\n",
              "      fill: #174EA6;\n",
              "    }\n",
              "\n",
              "    .colab-df-buttons div {\n",
              "      margin-bottom: 4px;\n",
              "    }\n",
              "\n",
              "    [theme=dark] .colab-df-convert {\n",
              "      background-color: #3B4455;\n",
              "      fill: #D2E3FC;\n",
              "    }\n",
              "\n",
              "    [theme=dark] .colab-df-convert:hover {\n",
              "      background-color: #434B5C;\n",
              "      box-shadow: 0px 1px 3px 1px rgba(0, 0, 0, 0.15);\n",
              "      filter: drop-shadow(0px 1px 2px rgba(0, 0, 0, 0.3));\n",
              "      fill: #FFFFFF;\n",
              "    }\n",
              "  </style>\n",
              "\n",
              "    <script>\n",
              "      const buttonEl =\n",
              "        document.querySelector('#df-e35fc13e-d70e-428e-b511-541f51ede023 button.colab-df-convert');\n",
              "      buttonEl.style.display =\n",
              "        google.colab.kernel.accessAllowed ? 'block' : 'none';\n",
              "\n",
              "      async function convertToInteractive(key) {\n",
              "        const element = document.querySelector('#df-e35fc13e-d70e-428e-b511-541f51ede023');\n",
              "        const dataTable =\n",
              "          await google.colab.kernel.invokeFunction('convertToInteractive',\n",
              "                                                    [key], {});\n",
              "        if (!dataTable) return;\n",
              "\n",
              "        const docLinkHtml = 'Like what you see? Visit the ' +\n",
              "          '<a target=\"_blank\" href=https://colab.research.google.com/notebooks/data_table.ipynb>data table notebook</a>'\n",
              "          + ' to learn more about interactive tables.';\n",
              "        element.innerHTML = '';\n",
              "        dataTable['output_type'] = 'display_data';\n",
              "        await google.colab.output.renderOutput(dataTable, element);\n",
              "        const docLink = document.createElement('div');\n",
              "        docLink.innerHTML = docLinkHtml;\n",
              "        element.appendChild(docLink);\n",
              "      }\n",
              "    </script>\n",
              "  </div>\n",
              "\n",
              "\n",
              "<div id=\"df-f2a1ef25-bcff-4b6f-806b-1cb0e3b243ad\">\n",
              "  <button class=\"colab-df-quickchart\" onclick=\"quickchart('df-f2a1ef25-bcff-4b6f-806b-1cb0e3b243ad')\"\n",
              "            title=\"Suggest charts\"\n",
              "            style=\"display:none;\">\n",
              "\n",
              "<svg xmlns=\"http://www.w3.org/2000/svg\" height=\"24px\"viewBox=\"0 0 24 24\"\n",
              "     width=\"24px\">\n",
              "    <g>\n",
              "        <path d=\"M19 3H5c-1.1 0-2 .9-2 2v14c0 1.1.9 2 2 2h14c1.1 0 2-.9 2-2V5c0-1.1-.9-2-2-2zM9 17H7v-7h2v7zm4 0h-2V7h2v10zm4 0h-2v-4h2v4z\"/>\n",
              "    </g>\n",
              "</svg>\n",
              "  </button>\n",
              "\n",
              "<style>\n",
              "  .colab-df-quickchart {\n",
              "      --bg-color: #E8F0FE;\n",
              "      --fill-color: #1967D2;\n",
              "      --hover-bg-color: #E2EBFA;\n",
              "      --hover-fill-color: #174EA6;\n",
              "      --disabled-fill-color: #AAA;\n",
              "      --disabled-bg-color: #DDD;\n",
              "  }\n",
              "\n",
              "  [theme=dark] .colab-df-quickchart {\n",
              "      --bg-color: #3B4455;\n",
              "      --fill-color: #D2E3FC;\n",
              "      --hover-bg-color: #434B5C;\n",
              "      --hover-fill-color: #FFFFFF;\n",
              "      --disabled-bg-color: #3B4455;\n",
              "      --disabled-fill-color: #666;\n",
              "  }\n",
              "\n",
              "  .colab-df-quickchart {\n",
              "    background-color: var(--bg-color);\n",
              "    border: none;\n",
              "    border-radius: 50%;\n",
              "    cursor: pointer;\n",
              "    display: none;\n",
              "    fill: var(--fill-color);\n",
              "    height: 32px;\n",
              "    padding: 0;\n",
              "    width: 32px;\n",
              "  }\n",
              "\n",
              "  .colab-df-quickchart:hover {\n",
              "    background-color: var(--hover-bg-color);\n",
              "    box-shadow: 0 1px 2px rgba(60, 64, 67, 0.3), 0 1px 3px 1px rgba(60, 64, 67, 0.15);\n",
              "    fill: var(--button-hover-fill-color);\n",
              "  }\n",
              "\n",
              "  .colab-df-quickchart-complete:disabled,\n",
              "  .colab-df-quickchart-complete:disabled:hover {\n",
              "    background-color: var(--disabled-bg-color);\n",
              "    fill: var(--disabled-fill-color);\n",
              "    box-shadow: none;\n",
              "  }\n",
              "\n",
              "  .colab-df-spinner {\n",
              "    border: 2px solid var(--fill-color);\n",
              "    border-color: transparent;\n",
              "    border-bottom-color: var(--fill-color);\n",
              "    animation:\n",
              "      spin 1s steps(1) infinite;\n",
              "  }\n",
              "\n",
              "  @keyframes spin {\n",
              "    0% {\n",
              "      border-color: transparent;\n",
              "      border-bottom-color: var(--fill-color);\n",
              "      border-left-color: var(--fill-color);\n",
              "    }\n",
              "    20% {\n",
              "      border-color: transparent;\n",
              "      border-left-color: var(--fill-color);\n",
              "      border-top-color: var(--fill-color);\n",
              "    }\n",
              "    30% {\n",
              "      border-color: transparent;\n",
              "      border-left-color: var(--fill-color);\n",
              "      border-top-color: var(--fill-color);\n",
              "      border-right-color: var(--fill-color);\n",
              "    }\n",
              "    40% {\n",
              "      border-color: transparent;\n",
              "      border-right-color: var(--fill-color);\n",
              "      border-top-color: var(--fill-color);\n",
              "    }\n",
              "    60% {\n",
              "      border-color: transparent;\n",
              "      border-right-color: var(--fill-color);\n",
              "    }\n",
              "    80% {\n",
              "      border-color: transparent;\n",
              "      border-right-color: var(--fill-color);\n",
              "      border-bottom-color: var(--fill-color);\n",
              "    }\n",
              "    90% {\n",
              "      border-color: transparent;\n",
              "      border-bottom-color: var(--fill-color);\n",
              "    }\n",
              "  }\n",
              "</style>\n",
              "\n",
              "  <script>\n",
              "    async function quickchart(key) {\n",
              "      const quickchartButtonEl =\n",
              "        document.querySelector('#' + key + ' button');\n",
              "      quickchartButtonEl.disabled = true;  // To prevent multiple clicks.\n",
              "      quickchartButtonEl.classList.add('colab-df-spinner');\n",
              "      try {\n",
              "        const charts = await google.colab.kernel.invokeFunction(\n",
              "            'suggestCharts', [key], {});\n",
              "      } catch (error) {\n",
              "        console.error('Error during call to suggestCharts:', error);\n",
              "      }\n",
              "      quickchartButtonEl.classList.remove('colab-df-spinner');\n",
              "      quickchartButtonEl.classList.add('colab-df-quickchart-complete');\n",
              "    }\n",
              "    (() => {\n",
              "      let quickchartButtonEl =\n",
              "        document.querySelector('#df-f2a1ef25-bcff-4b6f-806b-1cb0e3b243ad button');\n",
              "      quickchartButtonEl.style.display =\n",
              "        google.colab.kernel.accessAllowed ? 'block' : 'none';\n",
              "    })();\n",
              "  </script>\n",
              "</div>\n",
              "\n",
              "    </div>\n",
              "  </div>\n"
            ],
            "application/vnd.google.colaboratory.intrinsic+json": {
              "type": "dataframe",
              "summary": "{\n  \"name\": \"base\",\n  \"rows\": 8,\n  \"fields\": [\n    {\n      \"column\": \"idempresa\",\n      \"properties\": {\n        \"dtype\": \"number\",\n        \"std\": 4019.739007444717,\n        \"min\": 120.0,\n        \"max\": 11070.0,\n        \"num_unique_values\": 8,\n        \"samples\": [\n          6510.563968668407,\n          7046.0,\n          383.0\n        ],\n        \"semantic_type\": \"\",\n        \"description\": \"\"\n      }\n    },\n    {\n      \"column\": \"idproducto\",\n      \"properties\": {\n        \"dtype\": \"number\",\n        \"std\": 134.80667374323232,\n        \"min\": 0.0,\n        \"max\": 383.0,\n        \"num_unique_values\": 3,\n        \"samples\": [\n          383.0,\n          2.0,\n          0.0\n        ],\n        \"semantic_type\": \"\",\n        \"description\": \"\"\n      }\n    },\n    {\n      \"column\": \"idtipohorario\",\n      \"properties\": {\n        \"dtype\": \"number\",\n        \"std\": 134.80667374323232,\n        \"min\": 0.0,\n        \"max\": 383.0,\n        \"num_unique_values\": 3,\n        \"samples\": [\n          383.0,\n          2.0,\n          0.0\n        ],\n        \"semantic_type\": \"\",\n        \"description\": \"\"\n      }\n    },\n    {\n      \"column\": \"precio\",\n      \"properties\": {\n        \"dtype\": \"number\",\n        \"std\": 429.1007797100718,\n        \"min\": 79.78487781242534,\n        \"max\": 1328.0,\n        \"num_unique_values\": 8,\n        \"samples\": [\n          1089.2584856396868,\n          1104.0,\n          383.0\n        ],\n        \"semantic_type\": \"\",\n        \"description\": \"\"\n      }\n    },\n    {\n      \"column\": \"idempresabandera\",\n      \"properties\": {\n        \"dtype\": \"number\",\n        \"std\": 131.01662890610515,\n        \"min\": 1.0,\n        \"max\": 383.0,\n        \"num_unique_values\": 8,\n        \"samples\": [\n          14.4177545691906,\n          6.0,\n          383.0\n        ],\n        \"semantic_type\": \"\",\n        \"description\": \"\"\n      }\n    },\n    {\n      \"column\": \"latitud\",\n      \"properties\": {\n        \"dtype\": \"number\",\n        \"std\": 145.446132432149,\n        \"min\": -46.798999,\n        \"max\": 381.0,\n        \"num_unique_values\": 8,\n        \"samples\": [\n          -33.06697906589925,\n          -33.54293,\n          381.0\n        ],\n        \"semantic_type\": \"\",\n        \"description\": \"\"\n      }\n    },\n    {\n      \"column\": \"longitud\",\n      \"properties\": {\n        \"dtype\": \"number\",\n        \"std\": 155.08201136570958,\n        \"min\": -71.535157,\n        \"max\": 381.0,\n        \"num_unique_values\": 8,\n        \"samples\": [\n          -61.739116440939625,\n          -61.04426,\n          381.0\n        ],\n        \"semantic_type\": \"\",\n        \"description\": \"\"\n      }\n    }\n  ]\n}"
            }
          },
          "metadata": {},
          "execution_count": 96
        }
      ]
    },
    {
      "cell_type": "markdown",
      "source": [
        "Podemos ver en donde esta el precio mas bajo"
      ],
      "metadata": {
        "id": "1KtRBUezE6R8"
      }
    },
    {
      "cell_type": "code",
      "source": [
        "base[base[\"precio\"] == 803]"
      ],
      "metadata": {
        "colab": {
          "base_uri": "https://localhost:8080/",
          "height": 170
        },
        "id": "z3BP9nvlPlTX",
        "outputId": "849d9977-3897-4c2b-aabe-6998fa48dbde"
      },
      "execution_count": null,
      "outputs": [
        {
          "output_type": "execute_result",
          "data": {
            "text/plain": [
              "      indice_tiempo  idempresa           cuit  \\\n",
              "13880       2024-08       2525  30-70725838-8   \n",
              "\n",
              "                                empresa             direccion      localidad  \\\n",
              "13880  ESTACION SERVICIO DEL CENTRO SRL  RIVADAVIA E YRIGOYEN  PICO TRUNCADO   \n",
              "\n",
              "        provincia     region  idproducto                         producto  \\\n",
              "13880  SANTA CRUZ  PATAGONIA           2  Nafta (súper) entre 92 y 95 Ron   \n",
              "\n",
              "       idtipohorario tipohorario  precio       fecha_vigencia  \\\n",
              "13880              2      Diurno     803  2024-08-01 10:30:00   \n",
              "\n",
              "       idempresabandera empresabandera    latitud   longitud  \\\n",
              "13880                26          AXION -46.798999 -67.960328   \n",
              "\n",
              "                                                 geojson  \n",
              "13880  {\"type\":\"Point\",\"coordinates\":[-67.960328,-46....  "
            ],
            "text/html": [
              "\n",
              "  <div id=\"df-76ee94cb-043a-4009-acae-dc3e6b1055b7\" class=\"colab-df-container\">\n",
              "    <div>\n",
              "<style scoped>\n",
              "    .dataframe tbody tr th:only-of-type {\n",
              "        vertical-align: middle;\n",
              "    }\n",
              "\n",
              "    .dataframe tbody tr th {\n",
              "        vertical-align: top;\n",
              "    }\n",
              "\n",
              "    .dataframe thead th {\n",
              "        text-align: right;\n",
              "    }\n",
              "</style>\n",
              "<table border=\"1\" class=\"dataframe\">\n",
              "  <thead>\n",
              "    <tr style=\"text-align: right;\">\n",
              "      <th></th>\n",
              "      <th>indice_tiempo</th>\n",
              "      <th>idempresa</th>\n",
              "      <th>cuit</th>\n",
              "      <th>empresa</th>\n",
              "      <th>direccion</th>\n",
              "      <th>localidad</th>\n",
              "      <th>provincia</th>\n",
              "      <th>region</th>\n",
              "      <th>idproducto</th>\n",
              "      <th>producto</th>\n",
              "      <th>idtipohorario</th>\n",
              "      <th>tipohorario</th>\n",
              "      <th>precio</th>\n",
              "      <th>fecha_vigencia</th>\n",
              "      <th>idempresabandera</th>\n",
              "      <th>empresabandera</th>\n",
              "      <th>latitud</th>\n",
              "      <th>longitud</th>\n",
              "      <th>geojson</th>\n",
              "    </tr>\n",
              "  </thead>\n",
              "  <tbody>\n",
              "    <tr>\n",
              "      <th>13880</th>\n",
              "      <td>2024-08</td>\n",
              "      <td>2525</td>\n",
              "      <td>30-70725838-8</td>\n",
              "      <td>ESTACION SERVICIO DEL CENTRO SRL</td>\n",
              "      <td>RIVADAVIA E YRIGOYEN</td>\n",
              "      <td>PICO TRUNCADO</td>\n",
              "      <td>SANTA CRUZ</td>\n",
              "      <td>PATAGONIA</td>\n",
              "      <td>2</td>\n",
              "      <td>Nafta (súper) entre 92 y 95 Ron</td>\n",
              "      <td>2</td>\n",
              "      <td>Diurno</td>\n",
              "      <td>803</td>\n",
              "      <td>2024-08-01 10:30:00</td>\n",
              "      <td>26</td>\n",
              "      <td>AXION</td>\n",
              "      <td>-46.798999</td>\n",
              "      <td>-67.960328</td>\n",
              "      <td>{\"type\":\"Point\",\"coordinates\":[-67.960328,-46....</td>\n",
              "    </tr>\n",
              "  </tbody>\n",
              "</table>\n",
              "</div>\n",
              "    <div class=\"colab-df-buttons\">\n",
              "\n",
              "  <div class=\"colab-df-container\">\n",
              "    <button class=\"colab-df-convert\" onclick=\"convertToInteractive('df-76ee94cb-043a-4009-acae-dc3e6b1055b7')\"\n",
              "            title=\"Convert this dataframe to an interactive table.\"\n",
              "            style=\"display:none;\">\n",
              "\n",
              "  <svg xmlns=\"http://www.w3.org/2000/svg\" height=\"24px\" viewBox=\"0 -960 960 960\">\n",
              "    <path d=\"M120-120v-720h720v720H120Zm60-500h600v-160H180v160Zm220 220h160v-160H400v160Zm0 220h160v-160H400v160ZM180-400h160v-160H180v160Zm440 0h160v-160H620v160ZM180-180h160v-160H180v160Zm440 0h160v-160H620v160Z\"/>\n",
              "  </svg>\n",
              "    </button>\n",
              "\n",
              "  <style>\n",
              "    .colab-df-container {\n",
              "      display:flex;\n",
              "      gap: 12px;\n",
              "    }\n",
              "\n",
              "    .colab-df-convert {\n",
              "      background-color: #E8F0FE;\n",
              "      border: none;\n",
              "      border-radius: 50%;\n",
              "      cursor: pointer;\n",
              "      display: none;\n",
              "      fill: #1967D2;\n",
              "      height: 32px;\n",
              "      padding: 0 0 0 0;\n",
              "      width: 32px;\n",
              "    }\n",
              "\n",
              "    .colab-df-convert:hover {\n",
              "      background-color: #E2EBFA;\n",
              "      box-shadow: 0px 1px 2px rgba(60, 64, 67, 0.3), 0px 1px 3px 1px rgba(60, 64, 67, 0.15);\n",
              "      fill: #174EA6;\n",
              "    }\n",
              "\n",
              "    .colab-df-buttons div {\n",
              "      margin-bottom: 4px;\n",
              "    }\n",
              "\n",
              "    [theme=dark] .colab-df-convert {\n",
              "      background-color: #3B4455;\n",
              "      fill: #D2E3FC;\n",
              "    }\n",
              "\n",
              "    [theme=dark] .colab-df-convert:hover {\n",
              "      background-color: #434B5C;\n",
              "      box-shadow: 0px 1px 3px 1px rgba(0, 0, 0, 0.15);\n",
              "      filter: drop-shadow(0px 1px 2px rgba(0, 0, 0, 0.3));\n",
              "      fill: #FFFFFF;\n",
              "    }\n",
              "  </style>\n",
              "\n",
              "    <script>\n",
              "      const buttonEl =\n",
              "        document.querySelector('#df-76ee94cb-043a-4009-acae-dc3e6b1055b7 button.colab-df-convert');\n",
              "      buttonEl.style.display =\n",
              "        google.colab.kernel.accessAllowed ? 'block' : 'none';\n",
              "\n",
              "      async function convertToInteractive(key) {\n",
              "        const element = document.querySelector('#df-76ee94cb-043a-4009-acae-dc3e6b1055b7');\n",
              "        const dataTable =\n",
              "          await google.colab.kernel.invokeFunction('convertToInteractive',\n",
              "                                                    [key], {});\n",
              "        if (!dataTable) return;\n",
              "\n",
              "        const docLinkHtml = 'Like what you see? Visit the ' +\n",
              "          '<a target=\"_blank\" href=https://colab.research.google.com/notebooks/data_table.ipynb>data table notebook</a>'\n",
              "          + ' to learn more about interactive tables.';\n",
              "        element.innerHTML = '';\n",
              "        dataTable['output_type'] = 'display_data';\n",
              "        await google.colab.output.renderOutput(dataTable, element);\n",
              "        const docLink = document.createElement('div');\n",
              "        docLink.innerHTML = docLinkHtml;\n",
              "        element.appendChild(docLink);\n",
              "      }\n",
              "    </script>\n",
              "  </div>\n",
              "\n",
              "\n",
              "    </div>\n",
              "  </div>\n"
            ],
            "application/vnd.google.colaboratory.intrinsic+json": {
              "type": "dataframe",
              "repr_error": "0"
            }
          },
          "metadata": {},
          "execution_count": 91
        }
      ]
    },
    {
      "cell_type": "markdown",
      "source": [
        "Podemos observar donde, por el contrario, esta el precio más alto"
      ],
      "metadata": {
        "id": "KxPjJvaUE9uD"
      }
    },
    {
      "cell_type": "code",
      "source": [
        "base[base[\"precio\"] == 1328]"
      ],
      "metadata": {
        "colab": {
          "base_uri": "https://localhost:8080/",
          "height": 153
        },
        "id": "bpEksaj5Pbzh",
        "outputId": "525b118e-dec0-4c86-c1d6-ec867ca64ec4"
      },
      "execution_count": null,
      "outputs": [
        {
          "output_type": "execute_result",
          "data": {
            "text/plain": [
              "      indice_tiempo  idempresa           cuit         empresa  \\\n",
              "15930       2024-08       6018  30-70771499-5  GNC ALBERDI SA   \n",
              "\n",
              "             direccion         localidad provincia  region  idproducto  \\\n",
              "15930  AV. CÁRCAMO 737  VILLA CARLOS PAZ   CORDOBA  CENTRO           2   \n",
              "\n",
              "                              producto  idtipohorario tipohorario  precio  \\\n",
              "15930  Nafta (súper) entre 92 y 95 Ron              2      Diurno    1328   \n",
              "\n",
              "            fecha_vigencia  idempresabandera empresabandera   latitud  \\\n",
              "15930  2024-08-07 11:19:00                 1         BLANCA -31.43515   \n",
              "\n",
              "       longitud                                            geojson  \n",
              "15930 -64.49996  {\"type\":\"Point\",\"coordinates\":[-64.49996,-31.4...  "
            ],
            "text/html": [
              "\n",
              "  <div id=\"df-5f3db6c2-3f86-4ab2-9146-3658b2395431\" class=\"colab-df-container\">\n",
              "    <div>\n",
              "<style scoped>\n",
              "    .dataframe tbody tr th:only-of-type {\n",
              "        vertical-align: middle;\n",
              "    }\n",
              "\n",
              "    .dataframe tbody tr th {\n",
              "        vertical-align: top;\n",
              "    }\n",
              "\n",
              "    .dataframe thead th {\n",
              "        text-align: right;\n",
              "    }\n",
              "</style>\n",
              "<table border=\"1\" class=\"dataframe\">\n",
              "  <thead>\n",
              "    <tr style=\"text-align: right;\">\n",
              "      <th></th>\n",
              "      <th>indice_tiempo</th>\n",
              "      <th>idempresa</th>\n",
              "      <th>cuit</th>\n",
              "      <th>empresa</th>\n",
              "      <th>direccion</th>\n",
              "      <th>localidad</th>\n",
              "      <th>provincia</th>\n",
              "      <th>region</th>\n",
              "      <th>idproducto</th>\n",
              "      <th>producto</th>\n",
              "      <th>idtipohorario</th>\n",
              "      <th>tipohorario</th>\n",
              "      <th>precio</th>\n",
              "      <th>fecha_vigencia</th>\n",
              "      <th>idempresabandera</th>\n",
              "      <th>empresabandera</th>\n",
              "      <th>latitud</th>\n",
              "      <th>longitud</th>\n",
              "      <th>geojson</th>\n",
              "    </tr>\n",
              "  </thead>\n",
              "  <tbody>\n",
              "    <tr>\n",
              "      <th>15930</th>\n",
              "      <td>2024-08</td>\n",
              "      <td>6018</td>\n",
              "      <td>30-70771499-5</td>\n",
              "      <td>GNC ALBERDI SA</td>\n",
              "      <td>AV. CÁRCAMO 737</td>\n",
              "      <td>VILLA CARLOS PAZ</td>\n",
              "      <td>CORDOBA</td>\n",
              "      <td>CENTRO</td>\n",
              "      <td>2</td>\n",
              "      <td>Nafta (súper) entre 92 y 95 Ron</td>\n",
              "      <td>2</td>\n",
              "      <td>Diurno</td>\n",
              "      <td>1328</td>\n",
              "      <td>2024-08-07 11:19:00</td>\n",
              "      <td>1</td>\n",
              "      <td>BLANCA</td>\n",
              "      <td>-31.43515</td>\n",
              "      <td>-64.49996</td>\n",
              "      <td>{\"type\":\"Point\",\"coordinates\":[-64.49996,-31.4...</td>\n",
              "    </tr>\n",
              "  </tbody>\n",
              "</table>\n",
              "</div>\n",
              "    <div class=\"colab-df-buttons\">\n",
              "\n",
              "  <div class=\"colab-df-container\">\n",
              "    <button class=\"colab-df-convert\" onclick=\"convertToInteractive('df-5f3db6c2-3f86-4ab2-9146-3658b2395431')\"\n",
              "            title=\"Convert this dataframe to an interactive table.\"\n",
              "            style=\"display:none;\">\n",
              "\n",
              "  <svg xmlns=\"http://www.w3.org/2000/svg\" height=\"24px\" viewBox=\"0 -960 960 960\">\n",
              "    <path d=\"M120-120v-720h720v720H120Zm60-500h600v-160H180v160Zm220 220h160v-160H400v160Zm0 220h160v-160H400v160ZM180-400h160v-160H180v160Zm440 0h160v-160H620v160ZM180-180h160v-160H180v160Zm440 0h160v-160H620v160Z\"/>\n",
              "  </svg>\n",
              "    </button>\n",
              "\n",
              "  <style>\n",
              "    .colab-df-container {\n",
              "      display:flex;\n",
              "      gap: 12px;\n",
              "    }\n",
              "\n",
              "    .colab-df-convert {\n",
              "      background-color: #E8F0FE;\n",
              "      border: none;\n",
              "      border-radius: 50%;\n",
              "      cursor: pointer;\n",
              "      display: none;\n",
              "      fill: #1967D2;\n",
              "      height: 32px;\n",
              "      padding: 0 0 0 0;\n",
              "      width: 32px;\n",
              "    }\n",
              "\n",
              "    .colab-df-convert:hover {\n",
              "      background-color: #E2EBFA;\n",
              "      box-shadow: 0px 1px 2px rgba(60, 64, 67, 0.3), 0px 1px 3px 1px rgba(60, 64, 67, 0.15);\n",
              "      fill: #174EA6;\n",
              "    }\n",
              "\n",
              "    .colab-df-buttons div {\n",
              "      margin-bottom: 4px;\n",
              "    }\n",
              "\n",
              "    [theme=dark] .colab-df-convert {\n",
              "      background-color: #3B4455;\n",
              "      fill: #D2E3FC;\n",
              "    }\n",
              "\n",
              "    [theme=dark] .colab-df-convert:hover {\n",
              "      background-color: #434B5C;\n",
              "      box-shadow: 0px 1px 3px 1px rgba(0, 0, 0, 0.15);\n",
              "      filter: drop-shadow(0px 1px 2px rgba(0, 0, 0, 0.3));\n",
              "      fill: #FFFFFF;\n",
              "    }\n",
              "  </style>\n",
              "\n",
              "    <script>\n",
              "      const buttonEl =\n",
              "        document.querySelector('#df-5f3db6c2-3f86-4ab2-9146-3658b2395431 button.colab-df-convert');\n",
              "      buttonEl.style.display =\n",
              "        google.colab.kernel.accessAllowed ? 'block' : 'none';\n",
              "\n",
              "      async function convertToInteractive(key) {\n",
              "        const element = document.querySelector('#df-5f3db6c2-3f86-4ab2-9146-3658b2395431');\n",
              "        const dataTable =\n",
              "          await google.colab.kernel.invokeFunction('convertToInteractive',\n",
              "                                                    [key], {});\n",
              "        if (!dataTable) return;\n",
              "\n",
              "        const docLinkHtml = 'Like what you see? Visit the ' +\n",
              "          '<a target=\"_blank\" href=https://colab.research.google.com/notebooks/data_table.ipynb>data table notebook</a>'\n",
              "          + ' to learn more about interactive tables.';\n",
              "        element.innerHTML = '';\n",
              "        dataTable['output_type'] = 'display_data';\n",
              "        await google.colab.output.renderOutput(dataTable, element);\n",
              "        const docLink = document.createElement('div');\n",
              "        docLink.innerHTML = docLinkHtml;\n",
              "        element.appendChild(docLink);\n",
              "      }\n",
              "    </script>\n",
              "  </div>\n",
              "\n",
              "\n",
              "    </div>\n",
              "  </div>\n"
            ],
            "application/vnd.google.colaboratory.intrinsic+json": {
              "type": "dataframe",
              "repr_error": "0"
            }
          },
          "metadata": {},
          "execution_count": 92
        }
      ]
    },
    {
      "cell_type": "code",
      "source": [
        "base.head(5)"
      ],
      "metadata": {
        "colab": {
          "base_uri": "https://localhost:8080/",
          "height": 504
        },
        "id": "pwcib6p3M343",
        "outputId": "7813b69f-69c4-4eb0-d728-6c90afd3dd67"
      },
      "execution_count": null,
      "outputs": [
        {
          "output_type": "execute_result",
          "data": {
            "text/plain": [
              "   indice_tiempo  idempresa           cuit               empresa  \\\n",
              "8        2024-08       1376  33-64337382-9  10 DE SETIEMBRE S.A.   \n",
              "16       2024-08      10677  30-71752323-3           1263 S.R.L.   \n",
              "24       2024-08       8943  30-71251168-7              1913 SRL   \n",
              "34       2024-08      11024  30-71810664-4  197 COMBUSTIBLES SRL   \n",
              "86       2024-08       7544  30-70944428-6       44 LA PLATA SRL   \n",
              "\n",
              "                                            direccion          localidad  \\\n",
              "8                                     Av. Mosconi 299  LOMAS DEL MIRADOR   \n",
              "16  UTA NAC. 3 KM. 1258 (COLECTORA CALLE 102 Nº 32...      SIERRA GRANDE   \n",
              "24                                   Julio A Roca 715   GOBERNADOR COSTA   \n",
              "34                             Hipolito Iriyoyen 2688           EL TALAR   \n",
              "86                                      44 y 142 2281           LA PLATA   \n",
              "\n",
              "       provincia     region  idproducto                         producto  \\\n",
              "8   BUENOS AIRES   PAMPEANA           2  Nafta (súper) entre 92 y 95 Ron   \n",
              "16     RIO NEGRO        NaN           2  Nafta (súper) entre 92 y 95 Ron   \n",
              "24        CHUBUT  PATAGONIA           2  Nafta (súper) entre 92 y 95 Ron   \n",
              "34  BUENOS AIRES        NaN           2  Nafta (súper) entre 92 y 95 Ron   \n",
              "86  BUENOS AIRES   PAMPEANA           2  Nafta (súper) entre 92 y 95 Ron   \n",
              "\n",
              "    idtipohorario tipohorario  precio       fecha_vigencia  idempresabandera  \\\n",
              "8               2      Diurno    1078  2024-08-01 13:39:00                28   \n",
              "16              2      Diurno     829  2024-08-01 16:56:00                28   \n",
              "24              2      Diurno     829  2024-08-01 16:34:00                28   \n",
              "34              2      Diurno    1045  2024-08-31 11:30:00                28   \n",
              "86              2      Diurno    1088  2024-08-08 17:18:00                 4   \n",
              "\n",
              "      empresabandera    latitud   longitud  \\\n",
              "8               PUMA -34.658476 -58.529443   \n",
              "16              PUMA -41.607070 -65.353830   \n",
              "24              PUMA -44.050662 -70.583041   \n",
              "34              PUMA -34.475970 -58.663180   \n",
              "86  SHELL C.A.P.S.A. -34.943490 -57.991692   \n",
              "\n",
              "                                              geojson  \n",
              "8   {\"type\":\"Point\",\"coordinates\":[-58.529443,-34....  \n",
              "16  {\"type\":\"Point\",\"coordinates\":[-65.35383,-41.6...  \n",
              "24  {\"type\":\"Point\",\"coordinates\":[-70.583041,-44....  \n",
              "34  {\"type\":\"Point\",\"coordinates\":[-58.66318,-34.4...  \n",
              "86  {\"type\":\"Point\",\"coordinates\":[-57.991692,-34....  "
            ],
            "text/html": [
              "\n",
              "  <div id=\"df-53ac3d38-980f-484d-903a-c39f7b9b214a\" class=\"colab-df-container\">\n",
              "    <div>\n",
              "<style scoped>\n",
              "    .dataframe tbody tr th:only-of-type {\n",
              "        vertical-align: middle;\n",
              "    }\n",
              "\n",
              "    .dataframe tbody tr th {\n",
              "        vertical-align: top;\n",
              "    }\n",
              "\n",
              "    .dataframe thead th {\n",
              "        text-align: right;\n",
              "    }\n",
              "</style>\n",
              "<table border=\"1\" class=\"dataframe\">\n",
              "  <thead>\n",
              "    <tr style=\"text-align: right;\">\n",
              "      <th></th>\n",
              "      <th>indice_tiempo</th>\n",
              "      <th>idempresa</th>\n",
              "      <th>cuit</th>\n",
              "      <th>empresa</th>\n",
              "      <th>direccion</th>\n",
              "      <th>localidad</th>\n",
              "      <th>provincia</th>\n",
              "      <th>region</th>\n",
              "      <th>idproducto</th>\n",
              "      <th>producto</th>\n",
              "      <th>idtipohorario</th>\n",
              "      <th>tipohorario</th>\n",
              "      <th>precio</th>\n",
              "      <th>fecha_vigencia</th>\n",
              "      <th>idempresabandera</th>\n",
              "      <th>empresabandera</th>\n",
              "      <th>latitud</th>\n",
              "      <th>longitud</th>\n",
              "      <th>geojson</th>\n",
              "    </tr>\n",
              "  </thead>\n",
              "  <tbody>\n",
              "    <tr>\n",
              "      <th>8</th>\n",
              "      <td>2024-08</td>\n",
              "      <td>1376</td>\n",
              "      <td>33-64337382-9</td>\n",
              "      <td>10 DE SETIEMBRE S.A.</td>\n",
              "      <td>Av. Mosconi 299</td>\n",
              "      <td>LOMAS DEL MIRADOR</td>\n",
              "      <td>BUENOS AIRES</td>\n",
              "      <td>PAMPEANA</td>\n",
              "      <td>2</td>\n",
              "      <td>Nafta (súper) entre 92 y 95 Ron</td>\n",
              "      <td>2</td>\n",
              "      <td>Diurno</td>\n",
              "      <td>1078</td>\n",
              "      <td>2024-08-01 13:39:00</td>\n",
              "      <td>28</td>\n",
              "      <td>PUMA</td>\n",
              "      <td>-34.658476</td>\n",
              "      <td>-58.529443</td>\n",
              "      <td>{\"type\":\"Point\",\"coordinates\":[-58.529443,-34....</td>\n",
              "    </tr>\n",
              "    <tr>\n",
              "      <th>16</th>\n",
              "      <td>2024-08</td>\n",
              "      <td>10677</td>\n",
              "      <td>30-71752323-3</td>\n",
              "      <td>1263 S.R.L.</td>\n",
              "      <td>UTA NAC. 3 KM. 1258 (COLECTORA CALLE 102 Nº 32...</td>\n",
              "      <td>SIERRA GRANDE</td>\n",
              "      <td>RIO NEGRO</td>\n",
              "      <td>NaN</td>\n",
              "      <td>2</td>\n",
              "      <td>Nafta (súper) entre 92 y 95 Ron</td>\n",
              "      <td>2</td>\n",
              "      <td>Diurno</td>\n",
              "      <td>829</td>\n",
              "      <td>2024-08-01 16:56:00</td>\n",
              "      <td>28</td>\n",
              "      <td>PUMA</td>\n",
              "      <td>-41.607070</td>\n",
              "      <td>-65.353830</td>\n",
              "      <td>{\"type\":\"Point\",\"coordinates\":[-65.35383,-41.6...</td>\n",
              "    </tr>\n",
              "    <tr>\n",
              "      <th>24</th>\n",
              "      <td>2024-08</td>\n",
              "      <td>8943</td>\n",
              "      <td>30-71251168-7</td>\n",
              "      <td>1913 SRL</td>\n",
              "      <td>Julio A Roca 715</td>\n",
              "      <td>GOBERNADOR COSTA</td>\n",
              "      <td>CHUBUT</td>\n",
              "      <td>PATAGONIA</td>\n",
              "      <td>2</td>\n",
              "      <td>Nafta (súper) entre 92 y 95 Ron</td>\n",
              "      <td>2</td>\n",
              "      <td>Diurno</td>\n",
              "      <td>829</td>\n",
              "      <td>2024-08-01 16:34:00</td>\n",
              "      <td>28</td>\n",
              "      <td>PUMA</td>\n",
              "      <td>-44.050662</td>\n",
              "      <td>-70.583041</td>\n",
              "      <td>{\"type\":\"Point\",\"coordinates\":[-70.583041,-44....</td>\n",
              "    </tr>\n",
              "    <tr>\n",
              "      <th>34</th>\n",
              "      <td>2024-08</td>\n",
              "      <td>11024</td>\n",
              "      <td>30-71810664-4</td>\n",
              "      <td>197 COMBUSTIBLES SRL</td>\n",
              "      <td>Hipolito Iriyoyen 2688</td>\n",
              "      <td>EL TALAR</td>\n",
              "      <td>BUENOS AIRES</td>\n",
              "      <td>NaN</td>\n",
              "      <td>2</td>\n",
              "      <td>Nafta (súper) entre 92 y 95 Ron</td>\n",
              "      <td>2</td>\n",
              "      <td>Diurno</td>\n",
              "      <td>1045</td>\n",
              "      <td>2024-08-31 11:30:00</td>\n",
              "      <td>28</td>\n",
              "      <td>PUMA</td>\n",
              "      <td>-34.475970</td>\n",
              "      <td>-58.663180</td>\n",
              "      <td>{\"type\":\"Point\",\"coordinates\":[-58.66318,-34.4...</td>\n",
              "    </tr>\n",
              "    <tr>\n",
              "      <th>86</th>\n",
              "      <td>2024-08</td>\n",
              "      <td>7544</td>\n",
              "      <td>30-70944428-6</td>\n",
              "      <td>44 LA PLATA SRL</td>\n",
              "      <td>44 y 142 2281</td>\n",
              "      <td>LA PLATA</td>\n",
              "      <td>BUENOS AIRES</td>\n",
              "      <td>PAMPEANA</td>\n",
              "      <td>2</td>\n",
              "      <td>Nafta (súper) entre 92 y 95 Ron</td>\n",
              "      <td>2</td>\n",
              "      <td>Diurno</td>\n",
              "      <td>1088</td>\n",
              "      <td>2024-08-08 17:18:00</td>\n",
              "      <td>4</td>\n",
              "      <td>SHELL C.A.P.S.A.</td>\n",
              "      <td>-34.943490</td>\n",
              "      <td>-57.991692</td>\n",
              "      <td>{\"type\":\"Point\",\"coordinates\":[-57.991692,-34....</td>\n",
              "    </tr>\n",
              "  </tbody>\n",
              "</table>\n",
              "</div>\n",
              "    <div class=\"colab-df-buttons\">\n",
              "\n",
              "  <div class=\"colab-df-container\">\n",
              "    <button class=\"colab-df-convert\" onclick=\"convertToInteractive('df-53ac3d38-980f-484d-903a-c39f7b9b214a')\"\n",
              "            title=\"Convert this dataframe to an interactive table.\"\n",
              "            style=\"display:none;\">\n",
              "\n",
              "  <svg xmlns=\"http://www.w3.org/2000/svg\" height=\"24px\" viewBox=\"0 -960 960 960\">\n",
              "    <path d=\"M120-120v-720h720v720H120Zm60-500h600v-160H180v160Zm220 220h160v-160H400v160Zm0 220h160v-160H400v160ZM180-400h160v-160H180v160Zm440 0h160v-160H620v160ZM180-180h160v-160H180v160Zm440 0h160v-160H620v160Z\"/>\n",
              "  </svg>\n",
              "    </button>\n",
              "\n",
              "  <style>\n",
              "    .colab-df-container {\n",
              "      display:flex;\n",
              "      gap: 12px;\n",
              "    }\n",
              "\n",
              "    .colab-df-convert {\n",
              "      background-color: #E8F0FE;\n",
              "      border: none;\n",
              "      border-radius: 50%;\n",
              "      cursor: pointer;\n",
              "      display: none;\n",
              "      fill: #1967D2;\n",
              "      height: 32px;\n",
              "      padding: 0 0 0 0;\n",
              "      width: 32px;\n",
              "    }\n",
              "\n",
              "    .colab-df-convert:hover {\n",
              "      background-color: #E2EBFA;\n",
              "      box-shadow: 0px 1px 2px rgba(60, 64, 67, 0.3), 0px 1px 3px 1px rgba(60, 64, 67, 0.15);\n",
              "      fill: #174EA6;\n",
              "    }\n",
              "\n",
              "    .colab-df-buttons div {\n",
              "      margin-bottom: 4px;\n",
              "    }\n",
              "\n",
              "    [theme=dark] .colab-df-convert {\n",
              "      background-color: #3B4455;\n",
              "      fill: #D2E3FC;\n",
              "    }\n",
              "\n",
              "    [theme=dark] .colab-df-convert:hover {\n",
              "      background-color: #434B5C;\n",
              "      box-shadow: 0px 1px 3px 1px rgba(0, 0, 0, 0.15);\n",
              "      filter: drop-shadow(0px 1px 2px rgba(0, 0, 0, 0.3));\n",
              "      fill: #FFFFFF;\n",
              "    }\n",
              "  </style>\n",
              "\n",
              "    <script>\n",
              "      const buttonEl =\n",
              "        document.querySelector('#df-53ac3d38-980f-484d-903a-c39f7b9b214a button.colab-df-convert');\n",
              "      buttonEl.style.display =\n",
              "        google.colab.kernel.accessAllowed ? 'block' : 'none';\n",
              "\n",
              "      async function convertToInteractive(key) {\n",
              "        const element = document.querySelector('#df-53ac3d38-980f-484d-903a-c39f7b9b214a');\n",
              "        const dataTable =\n",
              "          await google.colab.kernel.invokeFunction('convertToInteractive',\n",
              "                                                    [key], {});\n",
              "        if (!dataTable) return;\n",
              "\n",
              "        const docLinkHtml = 'Like what you see? Visit the ' +\n",
              "          '<a target=\"_blank\" href=https://colab.research.google.com/notebooks/data_table.ipynb>data table notebook</a>'\n",
              "          + ' to learn more about interactive tables.';\n",
              "        element.innerHTML = '';\n",
              "        dataTable['output_type'] = 'display_data';\n",
              "        await google.colab.output.renderOutput(dataTable, element);\n",
              "        const docLink = document.createElement('div');\n",
              "        docLink.innerHTML = docLinkHtml;\n",
              "        element.appendChild(docLink);\n",
              "      }\n",
              "    </script>\n",
              "  </div>\n",
              "\n",
              "\n",
              "<div id=\"df-1d018d78-1bfa-4860-ab20-53731de64c13\">\n",
              "  <button class=\"colab-df-quickchart\" onclick=\"quickchart('df-1d018d78-1bfa-4860-ab20-53731de64c13')\"\n",
              "            title=\"Suggest charts\"\n",
              "            style=\"display:none;\">\n",
              "\n",
              "<svg xmlns=\"http://www.w3.org/2000/svg\" height=\"24px\"viewBox=\"0 0 24 24\"\n",
              "     width=\"24px\">\n",
              "    <g>\n",
              "        <path d=\"M19 3H5c-1.1 0-2 .9-2 2v14c0 1.1.9 2 2 2h14c1.1 0 2-.9 2-2V5c0-1.1-.9-2-2-2zM9 17H7v-7h2v7zm4 0h-2V7h2v10zm4 0h-2v-4h2v4z\"/>\n",
              "    </g>\n",
              "</svg>\n",
              "  </button>\n",
              "\n",
              "<style>\n",
              "  .colab-df-quickchart {\n",
              "      --bg-color: #E8F0FE;\n",
              "      --fill-color: #1967D2;\n",
              "      --hover-bg-color: #E2EBFA;\n",
              "      --hover-fill-color: #174EA6;\n",
              "      --disabled-fill-color: #AAA;\n",
              "      --disabled-bg-color: #DDD;\n",
              "  }\n",
              "\n",
              "  [theme=dark] .colab-df-quickchart {\n",
              "      --bg-color: #3B4455;\n",
              "      --fill-color: #D2E3FC;\n",
              "      --hover-bg-color: #434B5C;\n",
              "      --hover-fill-color: #FFFFFF;\n",
              "      --disabled-bg-color: #3B4455;\n",
              "      --disabled-fill-color: #666;\n",
              "  }\n",
              "\n",
              "  .colab-df-quickchart {\n",
              "    background-color: var(--bg-color);\n",
              "    border: none;\n",
              "    border-radius: 50%;\n",
              "    cursor: pointer;\n",
              "    display: none;\n",
              "    fill: var(--fill-color);\n",
              "    height: 32px;\n",
              "    padding: 0;\n",
              "    width: 32px;\n",
              "  }\n",
              "\n",
              "  .colab-df-quickchart:hover {\n",
              "    background-color: var(--hover-bg-color);\n",
              "    box-shadow: 0 1px 2px rgba(60, 64, 67, 0.3), 0 1px 3px 1px rgba(60, 64, 67, 0.15);\n",
              "    fill: var(--button-hover-fill-color);\n",
              "  }\n",
              "\n",
              "  .colab-df-quickchart-complete:disabled,\n",
              "  .colab-df-quickchart-complete:disabled:hover {\n",
              "    background-color: var(--disabled-bg-color);\n",
              "    fill: var(--disabled-fill-color);\n",
              "    box-shadow: none;\n",
              "  }\n",
              "\n",
              "  .colab-df-spinner {\n",
              "    border: 2px solid var(--fill-color);\n",
              "    border-color: transparent;\n",
              "    border-bottom-color: var(--fill-color);\n",
              "    animation:\n",
              "      spin 1s steps(1) infinite;\n",
              "  }\n",
              "\n",
              "  @keyframes spin {\n",
              "    0% {\n",
              "      border-color: transparent;\n",
              "      border-bottom-color: var(--fill-color);\n",
              "      border-left-color: var(--fill-color);\n",
              "    }\n",
              "    20% {\n",
              "      border-color: transparent;\n",
              "      border-left-color: var(--fill-color);\n",
              "      border-top-color: var(--fill-color);\n",
              "    }\n",
              "    30% {\n",
              "      border-color: transparent;\n",
              "      border-left-color: var(--fill-color);\n",
              "      border-top-color: var(--fill-color);\n",
              "      border-right-color: var(--fill-color);\n",
              "    }\n",
              "    40% {\n",
              "      border-color: transparent;\n",
              "      border-right-color: var(--fill-color);\n",
              "      border-top-color: var(--fill-color);\n",
              "    }\n",
              "    60% {\n",
              "      border-color: transparent;\n",
              "      border-right-color: var(--fill-color);\n",
              "    }\n",
              "    80% {\n",
              "      border-color: transparent;\n",
              "      border-right-color: var(--fill-color);\n",
              "      border-bottom-color: var(--fill-color);\n",
              "    }\n",
              "    90% {\n",
              "      border-color: transparent;\n",
              "      border-bottom-color: var(--fill-color);\n",
              "    }\n",
              "  }\n",
              "</style>\n",
              "\n",
              "  <script>\n",
              "    async function quickchart(key) {\n",
              "      const quickchartButtonEl =\n",
              "        document.querySelector('#' + key + ' button');\n",
              "      quickchartButtonEl.disabled = true;  // To prevent multiple clicks.\n",
              "      quickchartButtonEl.classList.add('colab-df-spinner');\n",
              "      try {\n",
              "        const charts = await google.colab.kernel.invokeFunction(\n",
              "            'suggestCharts', [key], {});\n",
              "      } catch (error) {\n",
              "        console.error('Error during call to suggestCharts:', error);\n",
              "      }\n",
              "      quickchartButtonEl.classList.remove('colab-df-spinner');\n",
              "      quickchartButtonEl.classList.add('colab-df-quickchart-complete');\n",
              "    }\n",
              "    (() => {\n",
              "      let quickchartButtonEl =\n",
              "        document.querySelector('#df-1d018d78-1bfa-4860-ab20-53731de64c13 button');\n",
              "      quickchartButtonEl.style.display =\n",
              "        google.colab.kernel.accessAllowed ? 'block' : 'none';\n",
              "    })();\n",
              "  </script>\n",
              "</div>\n",
              "\n",
              "    </div>\n",
              "  </div>\n"
            ],
            "application/vnd.google.colaboratory.intrinsic+json": {
              "type": "dataframe",
              "variable_name": "base",
              "repr_error": "0"
            }
          },
          "metadata": {},
          "execution_count": 93
        }
      ]
    },
    {
      "cell_type": "code",
      "source": [
        "base.empresabandera.unique()"
      ],
      "metadata": {
        "colab": {
          "base_uri": "https://localhost:8080/"
        },
        "id": "sgsd52grNMKw",
        "outputId": "9dbd1eb6-8a4e-4eca-9bc8-cfff6c5de667"
      },
      "execution_count": null,
      "outputs": [
        {
          "output_type": "execute_result",
          "data": {
            "text/plain": [
              "array(['PUMA', 'SHELL C.A.P.S.A.', 'AXION', 'BLANCA', 'DAPSA S.A.',\n",
              "       'GULF', 'REFINOR', 'YPF', 'VOY'], dtype=object)"
            ]
          },
          "metadata": {},
          "execution_count": 48
        }
      ]
    },
    {
      "cell_type": "code",
      "source": [
        "base.empresabandera.unique().size"
      ],
      "metadata": {
        "colab": {
          "base_uri": "https://localhost:8080/"
        },
        "id": "KJZUekpfBbsq",
        "outputId": "893cd8df-d5cc-49fd-fa15-24343f099f30"
      },
      "execution_count": null,
      "outputs": [
        {
          "output_type": "execute_result",
          "data": {
            "text/plain": [
              "9"
            ]
          },
          "metadata": {},
          "execution_count": 49
        }
      ]
    },
    {
      "cell_type": "markdown",
      "source": [
        "Boxpot del precio por empresa bandera. Hay varios outsiders. Pero en general el precio mas bajo es de YPF; aunque tambien presenta la mayor dispersion."
      ],
      "metadata": {
        "id": "cZIM6YJrFHWD"
      }
    },
    {
      "cell_type": "code",
      "source": [
        "fig, ax = plt.subplots(ncols=1,nrows=1, figsize=(20,8))\n",
        "\n",
        "plt.title('box plots')\n",
        "sns.boxplot(x=base.empresabandera, y=base.precio)\n"
      ],
      "metadata": {
        "colab": {
          "base_uri": "https://localhost:8080/",
          "height": 512
        },
        "id": "HOxclqzRRWCs",
        "outputId": "c27f5426-e3a0-464e-ebd7-644fac3645c7"
      },
      "execution_count": null,
      "outputs": [
        {
          "output_type": "execute_result",
          "data": {
            "text/plain": [
              "<Axes: title={'center': 'box plots'}, xlabel='empresabandera', ylabel='precio'>"
            ]
          },
          "metadata": {},
          "execution_count": 33
        },
        {
          "output_type": "display_data",
          "data": {
            "text/plain": [
              "<Figure size 2000x800 with 1 Axes>"
            ],
            "image/png": "[encoded data removed]"
          },
          "metadata": {}
        }
      ]
    },
    {
      "cell_type": "markdown",
      "source": [
        "Si observamos los boxplot por provincia: Se observa nitidamente una diferencia muy marcada entre las provincias de la Patagonia vs el resto del país."
      ],
      "metadata": {
        "id": "PeDZaVAwFd1l"
      }
    },
    {
      "cell_type": "code",
      "source": [
        "fig, ax = plt.subplots(ncols=1,nrows=1, figsize=(20,8))\n",
        "\n",
        "plt.title('box plots')\n",
        "sns.boxplot(x=base.provincia, y=base.precio)\n"
      ],
      "metadata": {
        "colab": {
          "base_uri": "https://localhost:8080/",
          "height": 512
        },
        "id": "qRpo2mGoJKAV",
        "outputId": "b912c6d5-f484-4c3e-c14c-2948ebbfae96"
      },
      "execution_count": null,
      "outputs": [
        {
          "output_type": "execute_result",
          "data": {
            "text/plain": [
              "<Axes: title={'center': 'box plots'}, xlabel='provincia', ylabel='precio'>"
            ]
          },
          "metadata": {},
          "execution_count": 111
        },
        {
          "output_type": "display_data",
          "data": {
            "text/plain": [
              "<Figure size 2000x800 with 1 Axes>"
            ],
            "image/png": "[encoded data removed]"
          },
          "metadata": {}
        }
      ]
    },
    {
      "cell_type": "markdown",
      "source": [
        "Histograma de precios. La mediana es 1104 y la media 1089; lo que sugiere una cola a la izquierda más pesada."
      ],
      "metadata": {
        "id": "x6eGDlC8FzLb"
      }
    },
    {
      "cell_type": "code",
      "source": [
        "plt.hist(base.precio, bins=30)\n",
        "plt.title(\"Histograma de precios\")\n",
        "plt.xlabel(\"Precio\")\n",
        "plt.ylabel(\"Frecuencia\")\n",
        "plt.show()\n"
      ],
      "metadata": {
        "colab": {
          "base_uri": "https://localhost:8080/",
          "height": 472
        },
        "id": "MZV-0O4CVmCe",
        "outputId": "27da56ed-2be1-4af4-fe9f-78eaa44db9ec"
      },
      "execution_count": null,
      "outputs": [
        {
          "output_type": "display_data",
          "data": {
            "text/plain": [
              "<Figure size 640x480 with 1 Axes>"
            ],
            "image/png": "[encoded data removed]"
          },
          "metadata": {}
        }
      ]
    },
    {
      "cell_type": "code",
      "source": [
        "base.provincia.unique()"
      ],
      "metadata": {
        "colab": {
          "base_uri": "https://localhost:8080/"
        },
        "id": "qQ9rvEb-fb_J",
        "outputId": "19dd4ddf-fd1b-48ba-cdf2-7ea9c2e1eb27"
      },
      "execution_count": null,
      "outputs": [
        {
          "output_type": "execute_result",
          "data": {
            "text/plain": [
              "array(['BUENOS AIRES', 'RIO NEGRO', 'CHUBUT', 'ENTRE RIOS', 'SALTA',\n",
              "       'SANTA FE', 'LA PAMPA', 'MENDOZA', 'CORDOBA', 'CHACO',\n",
              "       'CORRIENTES', 'MISIONES', 'TUCUMAN', 'CAPITAL FEDERAL', 'SAN JUAN',\n",
              "       'CATAMARCA', 'SANTIAGO DEL ESTERO', 'SANTA CRUZ', 'SAN LUIS',\n",
              "       'LA RIOJA', 'NEUQUEN', 'FORMOSA', 'JUJUY'], dtype=object)"
            ]
          },
          "metadata": {},
          "execution_count": 36
        }
      ]
    },
    {
      "cell_type": "markdown",
      "source": [
        "Queremos saber la cantidad de empresas diferentes que hay por provincia"
      ],
      "metadata": {
        "id": "cX1I0pbdGOFN"
      }
    },
    {
      "cell_type": "code",
      "source": [
        "empresas_prov= base.groupby('provincia')['empresabandera'].nunique()\n",
        "empresas_prov = empresas_prov.sort_values(ascending=False)\n",
        "empresas_prov\n"
      ],
      "metadata": {
        "colab": {
          "base_uri": "https://localhost:8080/",
          "height": 836
        },
        "id": "4t9b66MY_hSv",
        "outputId": "be4c114f-fec9-496a-ab09-94274e488f96"
      },
      "execution_count": null,
      "outputs": [
        {
          "output_type": "execute_result",
          "data": {
            "text/plain": [
              "provincia\n",
              "BUENOS AIRES           7\n",
              "SANTA FE               7\n",
              "ENTRE RIOS             6\n",
              "CORDOBA                5\n",
              "CAPITAL FEDERAL        5\n",
              "TUCUMAN                5\n",
              "SANTIAGO DEL ESTERO    4\n",
              "CATAMARCA              4\n",
              "LA PAMPA               4\n",
              "CHACO                  4\n",
              "MENDOZA                4\n",
              "SALTA                  4\n",
              "CORRIENTES             3\n",
              "RIO NEGRO              3\n",
              "SAN JUAN               3\n",
              "NEUQUEN                3\n",
              "MISIONES               3\n",
              "CHUBUT                 2\n",
              "SAN LUIS               2\n",
              "JUJUY                  2\n",
              "FORMOSA                2\n",
              "SANTA CRUZ             1\n",
              "LA RIOJA               1\n",
              "Name: empresabandera, dtype: int64"
            ],
            "text/html": [
              "<div>\n",
              "<style scoped>\n",
              "    .dataframe tbody tr th:only-of-type {\n",
              "        vertical-align: middle;\n",
              "    }\n",
              "\n",
              "    .dataframe tbody tr th {\n",
              "        vertical-align: top;\n",
              "    }\n",
              "\n",
              "    .dataframe thead th {\n",
              "        text-align: right;\n",
              "    }\n",
              "</style>\n",
              "<table border=\"1\" class=\"dataframe\">\n",
              "  <thead>\n",
              "    <tr style=\"text-align: right;\">\n",
              "      <th></th>\n",
              "      <th>empresabandera</th>\n",
              "    </tr>\n",
              "    <tr>\n",
              "      <th>provincia</th>\n",
              "      <th></th>\n",
              "    </tr>\n",
              "  </thead>\n",
              "  <tbody>\n",
              "    <tr>\n",
              "      <th>BUENOS AIRES</th>\n",
              "      <td>7</td>\n",
              "    </tr>\n",
              "    <tr>\n",
              "      <th>SANTA FE</th>\n",
              "      <td>7</td>\n",
              "    </tr>\n",
              "    <tr>\n",
              "      <th>ENTRE RIOS</th>\n",
              "      <td>6</td>\n",
              "    </tr>\n",
              "    <tr>\n",
              "      <th>CORDOBA</th>\n",
              "      <td>5</td>\n",
              "    </tr>\n",
              "    <tr>\n",
              "      <th>CAPITAL FEDERAL</th>\n",
              "      <td>5</td>\n",
              "    </tr>\n",
              "    <tr>\n",
              "      <th>TUCUMAN</th>\n",
              "      <td>5</td>\n",
              "    </tr>\n",
              "    <tr>\n",
              "      <th>SANTIAGO DEL ESTERO</th>\n",
              "      <td>4</td>\n",
              "    </tr>\n",
              "    <tr>\n",
              "      <th>CATAMARCA</th>\n",
              "      <td>4</td>\n",
              "    </tr>\n",
              "    <tr>\n",
              "      <th>LA PAMPA</th>\n",
              "      <td>4</td>\n",
              "    </tr>\n",
              "    <tr>\n",
              "      <th>CHACO</th>\n",
              "      <td>4</td>\n",
              "    </tr>\n",
              "    <tr>\n",
              "      <th>MENDOZA</th>\n",
              "      <td>4</td>\n",
              "    </tr>\n",
              "    <tr>\n",
              "      <th>SALTA</th>\n",
              "      <td>4</td>\n",
              "    </tr>\n",
              "    <tr>\n",
              "      <th>CORRIENTES</th>\n",
              "      <td>3</td>\n",
              "    </tr>\n",
              "    <tr>\n",
              "      <th>RIO NEGRO</th>\n",
              "      <td>3</td>\n",
              "    </tr>\n",
              "    <tr>\n",
              "      <th>SAN JUAN</th>\n",
              "      <td>3</td>\n",
              "    </tr>\n",
              "    <tr>\n",
              "      <th>NEUQUEN</th>\n",
              "      <td>3</td>\n",
              "    </tr>\n",
              "    <tr>\n",
              "      <th>MISIONES</th>\n",
              "      <td>3</td>\n",
              "    </tr>\n",
              "    <tr>\n",
              "      <th>CHUBUT</th>\n",
              "      <td>2</td>\n",
              "    </tr>\n",
              "    <tr>\n",
              "      <th>SAN LUIS</th>\n",
              "      <td>2</td>\n",
              "    </tr>\n",
              "    <tr>\n",
              "      <th>JUJUY</th>\n",
              "      <td>2</td>\n",
              "    </tr>\n",
              "    <tr>\n",
              "      <th>FORMOSA</th>\n",
              "      <td>2</td>\n",
              "    </tr>\n",
              "    <tr>\n",
              "      <th>SANTA CRUZ</th>\n",
              "      <td>1</td>\n",
              "    </tr>\n",
              "    <tr>\n",
              "      <th>LA RIOJA</th>\n",
              "      <td>1</td>\n",
              "    </tr>\n",
              "  </tbody>\n",
              "</table>\n",
              "</div><br><label><b>dtype:</b> int64</label>"
            ]
          },
          "metadata": {},
          "execution_count": 100
        }
      ]
    },
    {
      "cell_type": "markdown",
      "source": [
        "Agrupamos por empresa y bandera para saber el precio medio"
      ],
      "metadata": {
        "id": "xFibOxI5GWMD"
      }
    },
    {
      "cell_type": "code",
      "source": [
        "\n",
        "precio_medio = base.groupby(['provincia', 'empresabandera'])['precio'].mean()\n",
        "precio_medio = precio_medio.sort_values(ascending=False)\n",
        "precio_medio\n"
      ],
      "metadata": {
        "colab": {
          "base_uri": "https://localhost:8080/",
          "height": 489
        },
        "id": "_1IhxGfpBxty",
        "outputId": "1b0e37a8-9160-4033-9ae6-f4f312da6596"
      },
      "execution_count": null,
      "outputs": [
        {
          "output_type": "execute_result",
          "data": {
            "text/plain": [
              "provincia            empresabandera\n",
              "SANTIAGO DEL ESTERO  REFINOR           1198.0\n",
              "FORMOSA              AXION             1187.0\n",
              "                     BLANCA            1185.0\n",
              "MISIONES             AXION             1180.0\n",
              "SANTIAGO DEL ESTERO  BLANCA            1179.0\n",
              "                                        ...  \n",
              "CHUBUT               PUMA               856.0\n",
              "LA PAMPA             PUMA               848.0\n",
              "RIO NEGRO            AXION              847.5\n",
              "                     PUMA               846.0\n",
              "SANTA CRUZ           AXION              811.5\n",
              "Name: precio, Length: 84, dtype: float64"
            ],
            "text/html": [
              "<div>\n",
              "<style scoped>\n",
              "    .dataframe tbody tr th:only-of-type {\n",
              "        vertical-align: middle;\n",
              "    }\n",
              "\n",
              "    .dataframe tbody tr th {\n",
              "        vertical-align: top;\n",
              "    }\n",
              "\n",
              "    .dataframe thead th {\n",
              "        text-align: right;\n",
              "    }\n",
              "</style>\n",
              "<table border=\"1\" class=\"dataframe\">\n",
              "  <thead>\n",
              "    <tr style=\"text-align: right;\">\n",
              "      <th></th>\n",
              "      <th></th>\n",
              "      <th>precio</th>\n",
              "    </tr>\n",
              "    <tr>\n",
              "      <th>provincia</th>\n",
              "      <th>empresabandera</th>\n",
              "      <th></th>\n",
              "    </tr>\n",
              "  </thead>\n",
              "  <tbody>\n",
              "    <tr>\n",
              "      <th>SANTIAGO DEL ESTERO</th>\n",
              "      <th>REFINOR</th>\n",
              "      <td>1198.0</td>\n",
              "    </tr>\n",
              "    <tr>\n",
              "      <th rowspan=\"2\" valign=\"top\">FORMOSA</th>\n",
              "      <th>AXION</th>\n",
              "      <td>1187.0</td>\n",
              "    </tr>\n",
              "    <tr>\n",
              "      <th>BLANCA</th>\n",
              "      <td>1185.0</td>\n",
              "    </tr>\n",
              "    <tr>\n",
              "      <th>MISIONES</th>\n",
              "      <th>AXION</th>\n",
              "      <td>1180.0</td>\n",
              "    </tr>\n",
              "    <tr>\n",
              "      <th>SANTIAGO DEL ESTERO</th>\n",
              "      <th>BLANCA</th>\n",
              "      <td>1179.0</td>\n",
              "    </tr>\n",
              "    <tr>\n",
              "      <th>...</th>\n",
              "      <th>...</th>\n",
              "      <td>...</td>\n",
              "    </tr>\n",
              "    <tr>\n",
              "      <th>CHUBUT</th>\n",
              "      <th>PUMA</th>\n",
              "      <td>856.0</td>\n",
              "    </tr>\n",
              "    <tr>\n",
              "      <th>LA PAMPA</th>\n",
              "      <th>PUMA</th>\n",
              "      <td>848.0</td>\n",
              "    </tr>\n",
              "    <tr>\n",
              "      <th rowspan=\"2\" valign=\"top\">RIO NEGRO</th>\n",
              "      <th>AXION</th>\n",
              "      <td>847.5</td>\n",
              "    </tr>\n",
              "    <tr>\n",
              "      <th>PUMA</th>\n",
              "      <td>846.0</td>\n",
              "    </tr>\n",
              "    <tr>\n",
              "      <th>SANTA CRUZ</th>\n",
              "      <th>AXION</th>\n",
              "      <td>811.5</td>\n",
              "    </tr>\n",
              "  </tbody>\n",
              "</table>\n",
              "<p>84 rows × 1 columns</p>\n",
              "</div><br><label><b>dtype:</b> float64</label>"
            ]
          },
          "metadata": {},
          "execution_count": 101
        }
      ]
    },
    {
      "cell_type": "markdown",
      "source": [
        "Obtenemos el precio medio por provincia"
      ],
      "metadata": {
        "id": "Fip_pHQ-GbTT"
      }
    },
    {
      "cell_type": "code",
      "source": [
        "precio_medio= base.groupby('provincia')['precio'].mean()\n",
        "precio_medio.sort_values(ascending=False)"
      ],
      "metadata": {
        "colab": {
          "base_uri": "https://localhost:8080/",
          "height": 836
        },
        "id": "fnVXpb4ZEeOm",
        "outputId": "e2cea07c-7e52-40c8-a679-590a5527c982"
      },
      "execution_count": null,
      "outputs": [
        {
          "output_type": "execute_result",
          "data": {
            "text/plain": [
              "provincia\n",
              "FORMOSA                1186.333333\n",
              "MISIONES               1138.400000\n",
              "SANTA FE               1132.023810\n",
              "CHACO                  1125.700000\n",
              "SANTIAGO DEL ESTERO    1122.166667\n",
              "CORDOBA                1121.976190\n",
              "ENTRE RIOS             1117.260870\n",
              "BUENOS AIRES           1109.137931\n",
              "CORRIENTES             1107.500000\n",
              "LA RIOJA               1098.000000\n",
              "SAN JUAN               1095.428571\n",
              "SAN LUIS               1092.750000\n",
              "TUCUMAN                1086.350000\n",
              "JUJUY                  1081.000000\n",
              "CATAMARCA              1074.500000\n",
              "SALTA                  1070.444444\n",
              "MENDOZA                1059.888889\n",
              "CAPITAL FEDERAL        1042.700000\n",
              "LA PAMPA                899.000000\n",
              "NEUQUEN                 874.300000\n",
              "CHUBUT                  859.333333\n",
              "RIO NEGRO               848.727273\n",
              "SANTA CRUZ              811.500000\n",
              "Name: precio, dtype: float64"
            ],
            "text/html": [
              "<div>\n",
              "<style scoped>\n",
              "    .dataframe tbody tr th:only-of-type {\n",
              "        vertical-align: middle;\n",
              "    }\n",
              "\n",
              "    .dataframe tbody tr th {\n",
              "        vertical-align: top;\n",
              "    }\n",
              "\n",
              "    .dataframe thead th {\n",
              "        text-align: right;\n",
              "    }\n",
              "</style>\n",
              "<table border=\"1\" class=\"dataframe\">\n",
              "  <thead>\n",
              "    <tr style=\"text-align: right;\">\n",
              "      <th></th>\n",
              "      <th>precio</th>\n",
              "    </tr>\n",
              "    <tr>\n",
              "      <th>provincia</th>\n",
              "      <th></th>\n",
              "    </tr>\n",
              "  </thead>\n",
              "  <tbody>\n",
              "    <tr>\n",
              "      <th>FORMOSA</th>\n",
              "      <td>1186.333333</td>\n",
              "    </tr>\n",
              "    <tr>\n",
              "      <th>MISIONES</th>\n",
              "      <td>1138.400000</td>\n",
              "    </tr>\n",
              "    <tr>\n",
              "      <th>SANTA FE</th>\n",
              "      <td>1132.023810</td>\n",
              "    </tr>\n",
              "    <tr>\n",
              "      <th>CHACO</th>\n",
              "      <td>1125.700000</td>\n",
              "    </tr>\n",
              "    <tr>\n",
              "      <th>SANTIAGO DEL ESTERO</th>\n",
              "      <td>1122.166667</td>\n",
              "    </tr>\n",
              "    <tr>\n",
              "      <th>CORDOBA</th>\n",
              "      <td>1121.976190</td>\n",
              "    </tr>\n",
              "    <tr>\n",
              "      <th>ENTRE RIOS</th>\n",
              "      <td>1117.260870</td>\n",
              "    </tr>\n",
              "    <tr>\n",
              "      <th>BUENOS AIRES</th>\n",
              "      <td>1109.137931</td>\n",
              "    </tr>\n",
              "    <tr>\n",
              "      <th>CORRIENTES</th>\n",
              "      <td>1107.500000</td>\n",
              "    </tr>\n",
              "    <tr>\n",
              "      <th>LA RIOJA</th>\n",
              "      <td>1098.000000</td>\n",
              "    </tr>\n",
              "    <tr>\n",
              "      <th>SAN JUAN</th>\n",
              "      <td>1095.428571</td>\n",
              "    </tr>\n",
              "    <tr>\n",
              "      <th>SAN LUIS</th>\n",
              "      <td>1092.750000</td>\n",
              "    </tr>\n",
              "    <tr>\n",
              "      <th>TUCUMAN</th>\n",
              "      <td>1086.350000</td>\n",
              "    </tr>\n",
              "    <tr>\n",
              "      <th>JUJUY</th>\n",
              "      <td>1081.000000</td>\n",
              "    </tr>\n",
              "    <tr>\n",
              "      <th>CATAMARCA</th>\n",
              "      <td>1074.500000</td>\n",
              "    </tr>\n",
              "    <tr>\n",
              "      <th>SALTA</th>\n",
              "      <td>1070.444444</td>\n",
              "    </tr>\n",
              "    <tr>\n",
              "      <th>MENDOZA</th>\n",
              "      <td>1059.888889</td>\n",
              "    </tr>\n",
              "    <tr>\n",
              "      <th>CAPITAL FEDERAL</th>\n",
              "      <td>1042.700000</td>\n",
              "    </tr>\n",
              "    <tr>\n",
              "      <th>LA PAMPA</th>\n",
              "      <td>899.000000</td>\n",
              "    </tr>\n",
              "    <tr>\n",
              "      <th>NEUQUEN</th>\n",
              "      <td>874.300000</td>\n",
              "    </tr>\n",
              "    <tr>\n",
              "      <th>CHUBUT</th>\n",
              "      <td>859.333333</td>\n",
              "    </tr>\n",
              "    <tr>\n",
              "      <th>RIO NEGRO</th>\n",
              "      <td>848.727273</td>\n",
              "    </tr>\n",
              "    <tr>\n",
              "      <th>SANTA CRUZ</th>\n",
              "      <td>811.500000</td>\n",
              "    </tr>\n",
              "  </tbody>\n",
              "</table>\n",
              "</div><br><label><b>dtype:</b> float64</label>"
            ]
          },
          "metadata": {},
          "execution_count": 104
        }
      ]
    },
    {
      "cell_type": "markdown",
      "source": [
        "Graficamos el precio medio por provincia"
      ],
      "metadata": {
        "id": "Q_70inO3GhWk"
      }
    },
    {
      "cell_type": "code",
      "source": [
        "precio_medio = base.groupby('provincia')['precio'].mean()\n",
        "precio_medio = precio_medio.sort_values()\n",
        "plt.figure(figsize=(15, 6))\n",
        "plt.bar(precio_medio.index, precio_medio.values)\n",
        "plt.xlabel('Provincia')\n",
        "plt.ylabel('Precio Medio')\n",
        "plt.title('Precio Medio por Provincia (Ordenado)')\n",
        "plt.xticks(rotation=45, ha='right')\n",
        "plt.tight_layout()\n",
        "plt.show()\n"
      ],
      "metadata": {
        "colab": {
          "base_uri": "https://localhost:8080/",
          "height": 458
        },
        "id": "mNjY9b1iHu7q",
        "outputId": "d000ef0f-6c7b-4a31-93fd-94c1357f1685"
      },
      "execution_count": null,
      "outputs": [
        {
          "output_type": "display_data",
          "data": {
            "text/plain": [
              "<Figure size 1500x600 with 1 Axes>"
            ],
            "image/png": "[encoded data removed]"
          },
          "metadata": {}
        }
      ]
    },
    {
      "cell_type": "markdown",
      "source": [
        "En el grafico anterior se puede observar que las provincias de la Patagonia tienen precios mas bajos en comparacion a la media del país debido a que no estan alcanzados por el impuesto a los combustibles"
      ],
      "metadata": {
        "id": "3vE23HZWDX-V"
      }
    },
    {
      "cell_type": "markdown",
      "source": [
        "Un analisis interesante para hacerse es:\n",
        "Ver el precio en agosto 24 vs el precio en septiembre 24 y tratar de verficar que los precios de CABA aumentaron el doble respecto a los de AMBA dado que historicamente eran mas baratos y se estaba generando una migracion para cargar en las estaciones de caba:\n",
        "https://econojournal.com.ar/2024/09/achicar-brecha-precios-gba-conurbano-naftas-combustibles-caba/\n"
      ],
      "metadata": {
        "id": "Kqe34zbZGl77"
      }
    },
    {
      "cell_type": "code",
      "source": [
        "base_sep = pd.read_csv(\"precios-en-surtidor-resolucin-3142016.csv\")"
      ],
      "metadata": {
        "id": "TsZ_lWJVDj1F"
      },
      "execution_count": 4,
      "outputs": []
    },
    {
      "cell_type": "code",
      "source": [
        "base_sep = base_sep[(base_sep[\"indice_tiempo\"] == \"2024-09\") & (base_sep[\"producto\"] == \"Nafta (súper) entre 92 y 95 Ron\") & (base_sep[\"tipohorario\"] == \"Diurno\") & ((base_sep[\"provincia\"] ==\"CAPITAL FEDERAL\") | (base_sep[\"provincia\"] == \"BUENOS AIRES\"))]\n"
      ],
      "metadata": {
        "id": "0G6pc2AzN3xk"
      },
      "execution_count": 7,
      "outputs": []
    },
    {
      "cell_type": "code",
      "source": [
        "base=base[ ((base[\"provincia\"] ==\"CAPITAL FEDERAL\") | (base[\"provincia\"] == \"BUENOS AIRES\"))]"
      ],
      "metadata": {
        "id": "XQOa3CQLOArz"
      },
      "execution_count": 12,
      "outputs": []
    },
    {
      "cell_type": "code",
      "source": [
        "precio_medio_ago = base.groupby('provincia')['precio'].mean()\n",
        "precio_medio_sep = base_sep.groupby('provincia')['precio'].mean()\n",
        "variaciones = (precio_medio_sep - precio_medio_ago) / precio_medio_ago * 100\n",
        "\n",
        "print(\"Precio medio en agosto:\\n\", precio_medio_ago)\n",
        "print(\"\\nPrecio medio en septiembre:\\n\", precio_medio_sep)\n",
        "print(\"\\nVariaciones entre septiembre y agosto:\\n\", variaciones)\n"
      ],
      "metadata": {
        "colab": {
          "base_uri": "https://localhost:8080/"
        },
        "id": "FcdRzqQGOQBZ",
        "outputId": "cbda6bef-68f6-471b-b73d-f94cce88793d"
      },
      "execution_count": 38,
      "outputs": [
        {
          "output_type": "stream",
          "name": "stdout",
          "text": [
            "Precio medio en agosto:\n",
            " provincia\n",
            "BUENOS AIRES       1111.830928\n",
            "CAPITAL FEDERAL    1028.800000\n",
            "Name: precio, dtype: float64\n",
            "\n",
            "Precio medio en septiembre:\n",
            " provincia\n",
            "BUENOS AIRES       1143.941824\n",
            "CAPITAL FEDERAL    1093.508876\n",
            "Name: precio, dtype: float64\n",
            "\n",
            "Variaciones entre septiembre y agosto:\n",
            " provincia\n",
            "BUENOS AIRES       2.888110\n",
            "CAPITAL FEDERAL    6.289743\n",
            "Name: precio, dtype: float64\n"
          ]
        }
      ]
    },
    {
      "cell_type": "code",
      "source": [
        "plt.figure(figsize=(10, 6))\n",
        "plt.bar(variaciones.index, variaciones.values)\n",
        "plt.xlabel('Provincia')\n",
        "plt.ylabel('Variación de Precio en %')\n",
        "plt.title('Variación de Precio Medio entre Septiembre y Agosto')\n",
        "plt.show()\n"
      ],
      "metadata": {
        "colab": {
          "base_uri": "https://localhost:8080/",
          "height": 565
        },
        "id": "14NwqwJYPA56",
        "outputId": "d0a28dde-b82e-4e1c-9b64-04de18e11565"
      },
      "execution_count": 26,
      "outputs": [
        {
          "output_type": "display_data",
          "data": {
            "text/plain": [
              "<Figure size 1000x600 with 1 Axes>"
            ],
            "image/png": "[encoded data removed]"
          },
          "metadata": {}
        }
      ]
    },
    {
      "cell_type": "code",
      "source": [
        "ratio_ago = precio_medio_ago[\"CAPITAL FEDERAL\"] / precio_medio_ago[\"BUENOS AIRES\"]\n",
        "ratio_sep = precio_medio_sep[\"CAPITAL FEDERAL\"] / precio_medio_sep[\"BUENOS AIRES\"]\n",
        "\n",
        "print(f\"Ratio Capital Federal / Buenos Aires en agosto: {ratio_ago:.2f}\")\n",
        "print(f\"Ratio Capital Federal / Buenos Aires en septiembre: {ratio_sep:.2f}\")\n"
      ],
      "metadata": {
        "colab": {
          "base_uri": "https://localhost:8080/"
        },
        "id": "VXmIsmm6PUxp",
        "outputId": "0ef3a1a0-c09a-4f0b-8257-22d6bea06474"
      },
      "execution_count": 30,
      "outputs": [
        {
          "output_type": "stream",
          "name": "stdout",
          "text": [
            "Ratio Capital Federal / Buenos Aires en agosto: 0.93\n",
            "Ratio Capital Federal / Buenos Aires en septiembre: 0.96\n"
          ]
        }
      ]
    },
    {
      "cell_type": "markdown",
      "source": [
        "Verificamos que en CABA los precios de la nafta super son mas baratos que en BS AS en promedio; Sin embargo, el utimo aumento en BS AS fue del 3%, mientras que en CABA fue mayor, +6%, lo que disminuyo la brecha en 3 puntos porcentuales.  "
      ],
      "metadata": {
        "id": "YsArsPi1PtRZ"
      }
    }
  ]
}